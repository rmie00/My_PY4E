{
 "cells": [
  {
   "cell_type": "code",
   "execution_count": 119,
   "id": "3fbee1df-9d55-4f42-bea3-4f1da531f18e",
   "metadata": {
    "tags": []
   },
   "outputs": [
    {
     "name": "stdin",
     "output_type": "stream",
     "text": [
      "Enter Desired HTML Here:  http://py4e-data.dr-chuck.net/known_by_Aimie.html\n",
      "Enter what number email in list you want:  18\n",
      "How many times do you want me to repeat this?:  7\n"
     ]
    },
    {
     "ename": "TypeError",
     "evalue": "'ResultSet' object cannot be interpreted as an integer",
     "output_type": "error",
     "traceback": [
      "\u001b[1;31m---------------------------------------------------------------------------\u001b[0m",
      "\u001b[1;31mTypeError\u001b[0m                                 Traceback (most recent call last)",
      "Cell \u001b[1;32mIn[119], line 32\u001b[0m\n\u001b[0;32m     30\u001b[0m     count \u001b[38;5;241m=\u001b[39m \u001b[38;5;241m0\u001b[39m\n\u001b[0;32m     31\u001b[0m     count \u001b[38;5;241m=\u001b[39m count \u001b[38;5;241m+\u001b[39m \u001b[38;5;241m1\u001b[39m\n\u001b[1;32m---> 32\u001b[0m     \u001b[38;5;28;01mfor\u001b[39;00m tag \u001b[38;5;129;01min\u001b[39;00m \u001b[38;5;28mrange\u001b[39m(tags, iloca):\n\u001b[0;32m     33\u001b[0m         \u001b[38;5;66;03m#if count == iloca:\u001b[39;00m\n\u001b[0;32m     34\u001b[0m         uhtml \u001b[38;5;241m=\u001b[39m tag\u001b[38;5;241m.\u001b[39mget(\u001b[38;5;124m'\u001b[39m\u001b[38;5;124mhref\u001b[39m\u001b[38;5;124m'\u001b[39m, \u001b[38;5;28;01mNone\u001b[39;00m)\n\u001b[0;32m     35\u001b[0m posof \u001b[38;5;241m=\u001b[39m uhtml\u001b[38;5;241m.\u001b[39msplit(\u001b[38;5;124m'\u001b[39m\u001b[38;5;124m_\u001b[39m\u001b[38;5;124m'\u001b[39m, )\n",
      "\u001b[1;31mTypeError\u001b[0m: 'ResultSet' object cannot be interpreted as an integer"
     ]
    }
   ],
   "source": [
    "import urllib.request, urllib.parse, urllib.error\n",
    "from bs4 import BeautifulSoup\n",
    "import re\n",
    "import ssl\n",
    "\n",
    "# html = to be a variable X\n",
    "#number of repeats to be a variable X\n",
    "#sequence number in the list to be a variable X\n",
    "#process the link and find all the href X\n",
    "#find the specified sequence location html X\n",
    "#re run the html for set amount of times X\n",
    "#extract the name after the set amount of times X\n",
    "\n",
    "uhtml = input('Enter Desired HTML Here: ')\n",
    "html = uhtml\n",
    "uloca = input('Enter what number email in list you want: ')\n",
    "iloca = int(uloca)\n",
    "urep = input('How many times do you want me to repeat this?: ')\n",
    "irep = int(urep)\n",
    "list_url = list()\n",
    "\n",
    "ctx = ssl.create_default_context()\n",
    "ctx.check_hostname = False\n",
    "ctx.verify_mode = ssl.CERT_NONE\n",
    "\n",
    "for i in range(irep):\n",
    "    html = urllib.request.urlopen(uhtml, context=ctx).read()\n",
    "    soup = BeautifulSoup(html, \"html.parser\")\n",
    "    tags = soup('a')\n",
    "    count = 0\n",
    "    count = count + 1\n",
    "    for tag in tags:\n",
    "        if count == iloca:\n",
    "            uhtml = tag.get('href', None)\n",
    "posof = uhtml.split('_', )\n",
    "nameun = posof[2]\n",
    "name = re.findall('^([a-z, A-Z]*)', nameun)\n",
    "print(name)\n",
    "\n",
    "    \n",
    "        "
   ]
  },
  {
   "cell_type": "code",
   "execution_count": 1,
   "id": "6baf1f4b-a639-4992-b1a7-b9e5b48f7777",
   "metadata": {},
   "outputs": [
    {
     "name": "stdout",
     "output_type": "stream",
     "text": [
      "http://py4e-data.dr-chuck.net/known_by_Madison.html\n"
     ]
    }
   ],
   "source": [
    "from bs4 import BeautifulSoup\n",
    "import urllib.request, urllib.parse, urllib.error\n",
    "import ssl\n",
    "import re\n",
    "\n",
    "ctx = ssl.create_default_context()\n",
    "ctx.check_hostname = False\n",
    "ctx.verify_mode = ssl.CERT_NONE\n",
    "url = \"http://py4e-data.dr-chuck.net/known_by_Colum.html\"\n",
    "\n",
    "#to repeat 7 times#\n",
    "for i in range(7):\n",
    "    html = urllib.request.urlopen(url, context=ctx).read()\n",
    "    soup = BeautifulSoup(html, 'html.parser')\n",
    "    tags = soup('a')\n",
    "    count = 0\n",
    "    for tag in tags:\n",
    "        count = count +1\n",
    "   \n",
    "        #make it stop at position 3#\n",
    "        if count>18:\n",
    "            break\n",
    "        url = tag.get('href', None)\n",
    "\n",
    "print(url)"
   ]
  },
  {
   "cell_type": "code",
   "execution_count": null,
   "id": "9de6920c-602f-4eae-a428-9e1e26608291",
   "metadata": {},
   "outputs": [],
   "source": []
  }
 ],
 "metadata": {
  "kernelspec": {
   "display_name": "Python 3 (ipykernel)",
   "language": "python",
   "name": "python3"
  },
  "language_info": {
   "codemirror_mode": {
    "name": "ipython",
    "version": 3
   },
   "file_extension": ".py",
   "mimetype": "text/x-python",
   "name": "python",
   "nbconvert_exporter": "python",
   "pygments_lexer": "ipython3",
   "version": "3.11.5"
  }
 },
 "nbformat": 4,
 "nbformat_minor": 5
}
