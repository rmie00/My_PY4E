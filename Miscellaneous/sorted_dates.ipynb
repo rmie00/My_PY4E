{
 "cells": [
  {
   "cell_type": "markdown",
   "id": "df017ba5-8b38-441e-99ac-4fca7ec947e3",
   "metadata": {},
   "source": [
    "Write a program to read through the mbox-short.txt and figure out the distribution by hour of the day for each of the messages.\n",
    "You can pull the hour out from the 'From ' line by finding the time and then splitting the string a second time using a colon.\n",
    "From stephen.marquard@uct.ac.za Sat Jan  5 09:14:16 2008\n",
    "Once you have accumulated the counts for each hour, print out the counts, sorted by hour as shown below."
   ]
  },
  {
   "cell_type": "markdown",
   "id": "a90e9265-436c-45ab-bfeb-421da396b02b",
   "metadata": {},
   "source": [
    "name = input(\"Enter file:\")\n",
    "if len(name) < 1:\n",
    "    name = \"mbox-short.txt\"\n",
    "handle = open(name)\n"
   ]
  },
  {
   "cell_type": "code",
   "execution_count": 44,
   "id": "5f7cb8b5-3172-4553-9536-be3c0e23e3d7",
   "metadata": {
    "tags": []
   },
   "outputs": [
    {
     "name": "stdout",
     "output_type": "stream",
     "text": [
      "04 3\n",
      "06 1\n",
      "07 1\n",
      "09 2\n",
      "10 3\n",
      "11 6\n",
      "14 1\n",
      "15 2\n",
      "16 4\n",
      "17 2\n",
      "18 1\n",
      "19 1\n"
     ]
    }
   ],
   "source": [
    "#name = input('mbox-short.txt')\n",
    "fhand = open('mbox-short.txt')\n",
    "date = list()\n",
    "counts = dict()\n",
    "for words in fhand:\n",
    "    email = words.split()\n",
    "    if 'From' in email:\n",
    "        date = email[5]\n",
    "        date = date[:2]\n",
    "        counts[date] = counts.get(date, 0) + 1\n",
    "lst = list()\n",
    "for key,value in counts.items():\n",
    "    tupdate = (key,value)\n",
    "    lst.append(tupdate)\n",
    "lst = sorted(lst)\n",
    "for hour,count in lst:\n",
    "    print(hour,count)\n",
    "\n",
    "\n",
    "\n",
    "        \n",
    "    "
   ]
  },
  {
   "cell_type": "code",
   "execution_count": null,
   "id": "d14eb09f-6e33-4afe-b828-f43f7a8fa4cd",
   "metadata": {},
   "outputs": [],
   "source": []
  }
 ],
 "metadata": {
  "kernelspec": {
   "display_name": "Python 3 (ipykernel)",
   "language": "python",
   "name": "python3"
  },
  "language_info": {
   "codemirror_mode": {
    "name": "ipython",
    "version": 3
   },
   "file_extension": ".py",
   "mimetype": "text/x-python",
   "name": "python",
   "nbconvert_exporter": "python",
   "pygments_lexer": "ipython3",
   "version": "3.11.5"
  }
 },
 "nbformat": 4,
 "nbformat_minor": 5
}
