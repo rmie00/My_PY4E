{
 "cells": [
  {
   "cell_type": "code",
   "execution_count": 3,
   "id": "e36c5f1c-6b82-4162-8c41-4223a532c3e4",
   "metadata": {
    "tags": []
   },
   "outputs": [
    {
     "data": {
      "text/plain": [
       "\"HOW CAN MIRRORS BE REAL IF OUR EYES AREN'T REAL\""
      ]
     },
     "execution_count": 3,
     "metadata": {},
     "output_type": "execute_result"
    }
   ],
   "source": [
    "def to_jaden_case(string):\n",
    "    return string.upper()\n",
    "\n",
    "str1 = \"How can mirrors be real if our eyes aren't real\"\n",
    "to_jaden_case(str1)"
   ]
  },
  {
   "cell_type": "code",
   "execution_count": null,
   "id": "e6c203d1-cee2-4a21-8a88-71afd0d152ee",
   "metadata": {},
   "outputs": [],
   "source": []
  },
  {
   "cell_type": "code",
   "execution_count": null,
   "id": "720dbe6c-f600-4073-9bf5-bc802040bf39",
   "metadata": {},
   "outputs": [],
   "source": []
  }
 ],
 "metadata": {
  "kernelspec": {
   "display_name": "Python 3 (ipykernel)",
   "language": "python",
   "name": "python3"
  },
  "language_info": {
   "codemirror_mode": {
    "name": "ipython",
    "version": 3
   },
   "file_extension": ".py",
   "mimetype": "text/x-python",
   "name": "python",
   "nbconvert_exporter": "python",
   "pygments_lexer": "ipython3",
   "version": "3.11.5"
  }
 },
 "nbformat": 4,
 "nbformat_minor": 5
}
