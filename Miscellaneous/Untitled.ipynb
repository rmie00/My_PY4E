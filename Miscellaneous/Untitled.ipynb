{
 "cells": [
  {
   "cell_type": "markdown",
   "id": "45c99bc8-7554-432a-9b63-2e91ee5edfb9",
   "metadata": {},
   "source": [
    "8.5 Open the file mbox-short.txt and read it line by line. \n",
    "When you find a line that starts with 'From ' like the following line:\n",
    "From stephen.marquard@uct.ac.za Sat Jan  5 09:14:16 2008\n",
    "You will parse the From line using split() and print out the second word in the line (i.e. the entire address of the person who sent the message). \n",
    "Then print out a count at the end.\n",
    "Hint: make sure not to include the lines that start with 'From:'. Also look at the last line of the sample output to see how to print the count."
   ]
  },
  {
   "cell_type": "markdown",
   "id": "c643a6ac-6761-465e-bcfa-a22f4f2315ea",
   "metadata": {},
   "source": [
    "fname = input(\"Enter file name: \")\n",
    "if len(fname) < 1:\n",
    "    fname = \"mbox-short.txt\"\n",
    "\n",
    "fh = open(fname)\n",
    "count = 0\n",
    "\n",
    "print(\"There were\", count, \"lines in the file with From as the first word\")\n"
   ]
  },
  {
   "cell_type": "code",
   "execution_count": 2,
   "id": "cff951de-732c-4eee-863f-68a3b132eadb",
   "metadata": {
    "tags": []
   },
   "outputs": [],
   "source": [
    "fname = open('mbox-short.txt')"
   ]
  },
  {
   "cell_type": "markdown",
   "id": "6410e05c-a528-407a-9211-e072bfad20e9",
   "metadata": {
    "tags": []
   },
   "source": [
    "inp = fname.read()\n",
    "print(len(inp))"
   ]
  },
  {
   "cell_type": "code",
   "execution_count": 142,
   "id": "088211dd-2e90-4df9-9ddf-eec6006566c6",
   "metadata": {
    "tags": []
   },
   "outputs": [],
   "source": [
    "email_list = list()"
   ]
  },
  {
   "cell_type": "code",
   "execution_count": 1,
   "id": "15751bee-aac3-48d6-bae6-24fc5766cb23",
   "metadata": {
    "tags": []
   },
   "outputs": [
    {
     "name": "stdout",
     "output_type": "stream",
     "text": [
      "cwen@iupui.edu 5\n"
     ]
    }
   ],
   "source": [
    "#name = input(\"Enter file:\")\n",
    "lame = open('mbox-short.txt')\n",
    "#try:\n",
    "#except:\n",
    "   # print('Unknown File')\n",
    "   # continue\n",
    "    \n",
    "email_list = list()\n",
    "counts = dict()\n",
    "for email in lame:\n",
    "    lss = email.rstrip().split()\n",
    "    if 'From' in lss:\n",
    "        addy = lss[1]\n",
    "        counts[addy] = counts.get(addy, 0) + 1\n",
    "most_emails = None\n",
    "most_count = None\n",
    "for addy,count in counts.items():\n",
    "    if most_emails is None or count > most_count:\n",
    "        most_emails = addy\n",
    "        most_count = count\n",
    "        \n",
    "print(most_emails, most_count)"
   ]
  },
  {
   "cell_type": "code",
   "execution_count": 1,
   "id": "5d9b7e58-65b1-4d9a-bf99-61998a22ab07",
   "metadata": {
    "tags": []
   },
   "outputs": [
    {
     "name": "stdout",
     "output_type": "stream",
     "text": [
      "stephen.marquard@uct.ac.za\n",
      "louis@media.berkeley.edu\n",
      "zqian@umich.edu\n",
      "rjlowe@iupui.edu\n",
      "zqian@umich.edu\n",
      "rjlowe@iupui.edu\n",
      "cwen@iupui.edu\n",
      "cwen@iupui.edu\n",
      "gsilver@umich.edu\n",
      "gsilver@umich.edu\n",
      "zqian@umich.edu\n",
      "gsilver@umich.edu\n",
      "wagnermr@iupui.edu\n",
      "zqian@umich.edu\n",
      "antranig@caret.cam.ac.uk\n",
      "gopal.ramasammycook@gmail.com\n",
      "david.horwitz@uct.ac.za\n",
      "david.horwitz@uct.ac.za\n",
      "david.horwitz@uct.ac.za\n",
      "david.horwitz@uct.ac.za\n",
      "stephen.marquard@uct.ac.za\n",
      "louis@media.berkeley.edu\n",
      "louis@media.berkeley.edu\n",
      "ray@media.berkeley.edu\n",
      "cwen@iupui.edu\n",
      "cwen@iupui.edu\n",
      "cwen@iupui.edu\n",
      "27\n"
     ]
    }
   ],
   "source": [
    "fname = open('mbox-short.txt')\n",
    "email_list = list()\n",
    "count = 0\n",
    "for email in fname:\n",
    "    email = email.rstrip().split()\n",
    "    if 'From' in email:\n",
    "        print(email[1])\n",
    "        count+=1\n",
    "print(count)\n",
    "    "
   ]
  },
  {
   "cell_type": "code",
   "execution_count": 161,
   "id": "a63ee7c5-be51-40b9-8415-4418fff93616",
   "metadata": {
    "tags": []
   },
   "outputs": [
    {
     "ename": "SyntaxError",
     "evalue": "Missing parentheses in call to 'print'. Did you mean print(...)? (475968077.py, line 11)",
     "output_type": "error",
     "traceback": [
      "\u001b[1;36m  Cell \u001b[1;32mIn[161], line 11\u001b[1;36m\u001b[0m\n\u001b[1;33m    print words[1]\u001b[0m\n\u001b[1;37m    ^\u001b[0m\n\u001b[1;31mSyntaxError\u001b[0m\u001b[1;31m:\u001b[0m Missing parentheses in call to 'print'. Did you mean print(...)?\n"
     ]
    }
   ],
   "source": []
  },
  {
   "cell_type": "code",
   "execution_count": null,
   "id": "0a668d81-9c98-4a4f-80f3-b4afcb029a93",
   "metadata": {},
   "outputs": [],
   "source": []
  }
 ],
 "metadata": {
  "kernelspec": {
   "display_name": "Python 3 (ipykernel)",
   "language": "python",
   "name": "python3"
  },
  "language_info": {
   "codemirror_mode": {
    "name": "ipython",
    "version": 3
   },
   "file_extension": ".py",
   "mimetype": "text/x-python",
   "name": "python",
   "nbconvert_exporter": "python",
   "pygments_lexer": "ipython3",
   "version": "3.11.5"
  }
 },
 "nbformat": 4,
 "nbformat_minor": 5
}
