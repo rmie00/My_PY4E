{
 "cells": [
  {
   "cell_type": "code",
   "execution_count": 4,
   "id": "ec1591c7-b2ce-472b-94d6-a766429ed81e",
   "metadata": {
    "tags": []
   },
   "outputs": [
    {
     "name": "stdout",
     "output_type": "stream",
     "text": [
      "314689\n"
     ]
    }
   ],
   "source": [
    "import re\n",
    "\n",
    "doc = open('regex_sum_1937758.txt')\n",
    "numr = 0\n",
    "for line in doc:\n",
    "    word = line.rstrip()\n",
    "    numb = re.findall('[0-9]+', word)\n",
    "    for num in numb:\n",
    "        numr = int(num) + numr\n",
    "print(numr)\n",
    "        "
   ]
  },
  {
   "cell_type": "code",
   "execution_count": null,
   "id": "7c9ffbeb-fd1b-466d-bb64-76c912009b78",
   "metadata": {},
   "outputs": [],
   "source": []
  }
 ],
 "metadata": {
  "kernelspec": {
   "display_name": "Python 3 (ipykernel)",
   "language": "python",
   "name": "python3"
  },
  "language_info": {
   "codemirror_mode": {
    "name": "ipython",
    "version": 3
   },
   "file_extension": ".py",
   "mimetype": "text/x-python",
   "name": "python",
   "nbconvert_exporter": "python",
   "pygments_lexer": "ipython3",
   "version": "3.11.5"
  }
 },
 "nbformat": 4,
 "nbformat_minor": 5
}
